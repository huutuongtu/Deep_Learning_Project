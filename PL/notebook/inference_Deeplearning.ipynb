{
  "nbformat": 4,
  "nbformat_minor": 0,
  "metadata": {
    "colab": {
      "provenance": []
    },
    "kernelspec": {
      "name": "python3",
      "display_name": "Python 3"
    },
    "language_info": {
      "name": "python"
    },
    "accelerator": "GPU",
    "gpuClass": "standard"
  },
  "cells": [
    {
      "cell_type": "code",
      "execution_count": null,
      "metadata": {
        "colab": {
          "base_uri": "https://localhost:8080/"
        },
        "id": "-0BZ-2Ck9iI6",
        "outputId": "f13a4288-59b7-4bb0-d5e1-e2c6bc44aef6"
      },
      "outputs": [
        {
          "output_type": "stream",
          "name": "stdout",
          "text": [
            "Mounted at /content/drive/\n"
          ]
        }
      ],
      "source": [
        "from google.colab import drive \n",
        "drive.mount('/content/drive/')"
      ]
    },
    {
      "cell_type": "code",
      "source": [
        "# !pip install cmath\n",
        "!pip install torch\n",
        "!pip install sklearn\n",
        "!pip install pandas\n",
        "!pip install librosa\n",
        "!pip install numpy\n",
        "!pip install speechpy\n",
        "!pip install transformers\n",
        "!pip install jiwer\n",
        "!pip install pyctcdecode\n",
        "\n",
        "from pyctcdecode import build_ctcdecoder"
      ],
      "metadata": {
        "colab": {
          "base_uri": "https://localhost:8080/"
        },
        "id": "r8w-q5Bm-Et1",
        "outputId": "761c0e81-4692-469b-a851-cb21e6fd0a08"
      },
      "execution_count": null,
      "outputs": [
        {
          "output_type": "stream",
          "name": "stdout",
          "text": [
            "Looking in indexes: https://pypi.org/simple, https://us-python.pkg.dev/colab-wheels/public/simple/\n",
            "Requirement already satisfied: torch in /usr/local/lib/python3.8/dist-packages (1.13.1+cu116)\n",
            "Requirement already satisfied: typing-extensions in /usr/local/lib/python3.8/dist-packages (from torch) (4.4.0)\n",
            "Looking in indexes: https://pypi.org/simple, https://us-python.pkg.dev/colab-wheels/public/simple/\n",
            "Collecting sklearn\n",
            "  Downloading sklearn-0.0.post1.tar.gz (3.6 kB)\n",
            "  Preparing metadata (setup.py) ... \u001b[?25l\u001b[?25hdone\n",
            "Building wheels for collected packages: sklearn\n",
            "  Building wheel for sklearn (setup.py) ... \u001b[?25l\u001b[?25hdone\n",
            "  Created wheel for sklearn: filename=sklearn-0.0.post1-py3-none-any.whl size=2344 sha256=2deb1316f6cb9cc641dd23d5ad817483e6931174cec73947ce5eea68c4ac4e02\n",
            "  Stored in directory: /root/.cache/pip/wheels/14/25/f7/1cc0956978ae479e75140219088deb7a36f60459df242b1a72\n",
            "Successfully built sklearn\n",
            "Installing collected packages: sklearn\n",
            "Successfully installed sklearn-0.0.post1\n",
            "Looking in indexes: https://pypi.org/simple, https://us-python.pkg.dev/colab-wheels/public/simple/\n",
            "Requirement already satisfied: pandas in /usr/local/lib/python3.8/dist-packages (1.3.5)\n",
            "Requirement already satisfied: python-dateutil>=2.7.3 in /usr/local/lib/python3.8/dist-packages (from pandas) (2.8.2)\n",
            "Requirement already satisfied: numpy>=1.17.3 in /usr/local/lib/python3.8/dist-packages (from pandas) (1.21.6)\n",
            "Requirement already satisfied: pytz>=2017.3 in /usr/local/lib/python3.8/dist-packages (from pandas) (2022.7.1)\n",
            "Requirement already satisfied: six>=1.5 in /usr/local/lib/python3.8/dist-packages (from python-dateutil>=2.7.3->pandas) (1.15.0)\n",
            "Looking in indexes: https://pypi.org/simple, https://us-python.pkg.dev/colab-wheels/public/simple/\n",
            "Requirement already satisfied: librosa in /usr/local/lib/python3.8/dist-packages (0.8.1)\n",
            "Requirement already satisfied: decorator>=3.0.0 in /usr/local/lib/python3.8/dist-packages (from librosa) (4.4.2)\n",
            "Requirement already satisfied: resampy>=0.2.2 in /usr/local/lib/python3.8/dist-packages (from librosa) (0.4.2)\n",
            "Requirement already satisfied: scipy>=1.0.0 in /usr/local/lib/python3.8/dist-packages (from librosa) (1.7.3)\n",
            "Requirement already satisfied: joblib>=0.14 in /usr/local/lib/python3.8/dist-packages (from librosa) (1.2.0)\n",
            "Requirement already satisfied: scikit-learn!=0.19.0,>=0.14.0 in /usr/local/lib/python3.8/dist-packages (from librosa) (1.0.2)\n",
            "Requirement already satisfied: soundfile>=0.10.2 in /usr/local/lib/python3.8/dist-packages (from librosa) (0.11.0)\n",
            "Requirement already satisfied: audioread>=2.0.0 in /usr/local/lib/python3.8/dist-packages (from librosa) (3.0.0)\n",
            "Requirement already satisfied: numba>=0.43.0 in /usr/local/lib/python3.8/dist-packages (from librosa) (0.56.4)\n",
            "Requirement already satisfied: pooch>=1.0 in /usr/local/lib/python3.8/dist-packages (from librosa) (1.6.0)\n",
            "Requirement already satisfied: numpy>=1.15.0 in /usr/local/lib/python3.8/dist-packages (from librosa) (1.21.6)\n",
            "Requirement already satisfied: packaging>=20.0 in /usr/local/lib/python3.8/dist-packages (from librosa) (23.0)\n",
            "Requirement already satisfied: llvmlite<0.40,>=0.39.0dev0 in /usr/local/lib/python3.8/dist-packages (from numba>=0.43.0->librosa) (0.39.1)\n",
            "Requirement already satisfied: importlib-metadata in /usr/local/lib/python3.8/dist-packages (from numba>=0.43.0->librosa) (6.0.0)\n",
            "Requirement already satisfied: setuptools in /usr/local/lib/python3.8/dist-packages (from numba>=0.43.0->librosa) (57.4.0)\n",
            "Requirement already satisfied: requests>=2.19.0 in /usr/local/lib/python3.8/dist-packages (from pooch>=1.0->librosa) (2.25.1)\n",
            "Requirement already satisfied: appdirs>=1.3.0 in /usr/local/lib/python3.8/dist-packages (from pooch>=1.0->librosa) (1.4.4)\n",
            "Requirement already satisfied: threadpoolctl>=2.0.0 in /usr/local/lib/python3.8/dist-packages (from scikit-learn!=0.19.0,>=0.14.0->librosa) (3.1.0)\n",
            "Requirement already satisfied: cffi>=1.0 in /usr/local/lib/python3.8/dist-packages (from soundfile>=0.10.2->librosa) (1.15.1)\n",
            "Requirement already satisfied: pycparser in /usr/local/lib/python3.8/dist-packages (from cffi>=1.0->soundfile>=0.10.2->librosa) (2.21)\n",
            "Requirement already satisfied: certifi>=2017.4.17 in /usr/local/lib/python3.8/dist-packages (from requests>=2.19.0->pooch>=1.0->librosa) (2022.12.7)\n",
            "Requirement already satisfied: chardet<5,>=3.0.2 in /usr/local/lib/python3.8/dist-packages (from requests>=2.19.0->pooch>=1.0->librosa) (4.0.0)\n",
            "Requirement already satisfied: idna<3,>=2.5 in /usr/local/lib/python3.8/dist-packages (from requests>=2.19.0->pooch>=1.0->librosa) (2.10)\n",
            "Requirement already satisfied: urllib3<1.27,>=1.21.1 in /usr/local/lib/python3.8/dist-packages (from requests>=2.19.0->pooch>=1.0->librosa) (1.24.3)\n",
            "Requirement already satisfied: zipp>=0.5 in /usr/local/lib/python3.8/dist-packages (from importlib-metadata->numba>=0.43.0->librosa) (3.12.0)\n",
            "Looking in indexes: https://pypi.org/simple, https://us-python.pkg.dev/colab-wheels/public/simple/\n",
            "Requirement already satisfied: numpy in /usr/local/lib/python3.8/dist-packages (1.21.6)\n",
            "Looking in indexes: https://pypi.org/simple, https://us-python.pkg.dev/colab-wheels/public/simple/\n",
            "Collecting speechpy\n",
            "  Downloading speechpy-2.4-py2.py3-none-any.whl (9.5 kB)\n",
            "Requirement already satisfied: scipy in /usr/local/lib/python3.8/dist-packages (from speechpy) (1.7.3)\n",
            "Requirement already satisfied: numpy in /usr/local/lib/python3.8/dist-packages (from speechpy) (1.21.6)\n",
            "Installing collected packages: speechpy\n",
            "Successfully installed speechpy-2.4\n",
            "Looking in indexes: https://pypi.org/simple, https://us-python.pkg.dev/colab-wheels/public/simple/\n",
            "Collecting transformers\n",
            "  Downloading transformers-4.26.0-py3-none-any.whl (6.3 MB)\n",
            "\u001b[2K     \u001b[90m━━━━━━━━━━━━━━━━━━━━━━━━━━━━━━━━━━━━━━━━\u001b[0m \u001b[32m6.3/6.3 MB\u001b[0m \u001b[31m68.8 MB/s\u001b[0m eta \u001b[36m0:00:00\u001b[0m\n",
            "\u001b[?25hCollecting huggingface-hub<1.0,>=0.11.0\n",
            "  Downloading huggingface_hub-0.12.0-py3-none-any.whl (190 kB)\n",
            "\u001b[2K     \u001b[90m━━━━━━━━━━━━━━━━━━━━━━━━━━━━━━━━━━━━━━\u001b[0m \u001b[32m190.3/190.3 KB\u001b[0m \u001b[31m25.3 MB/s\u001b[0m eta \u001b[36m0:00:00\u001b[0m\n",
            "\u001b[?25hRequirement already satisfied: packaging>=20.0 in /usr/local/lib/python3.8/dist-packages (from transformers) (23.0)\n",
            "Requirement already satisfied: pyyaml>=5.1 in /usr/local/lib/python3.8/dist-packages (from transformers) (6.0)\n",
            "Requirement already satisfied: filelock in /usr/local/lib/python3.8/dist-packages (from transformers) (3.9.0)\n",
            "Requirement already satisfied: tqdm>=4.27 in /usr/local/lib/python3.8/dist-packages (from transformers) (4.64.1)\n",
            "Requirement already satisfied: numpy>=1.17 in /usr/local/lib/python3.8/dist-packages (from transformers) (1.21.6)\n",
            "Requirement already satisfied: requests in /usr/local/lib/python3.8/dist-packages (from transformers) (2.25.1)\n",
            "Requirement already satisfied: regex!=2019.12.17 in /usr/local/lib/python3.8/dist-packages (from transformers) (2022.6.2)\n",
            "Collecting tokenizers!=0.11.3,<0.14,>=0.11.1\n",
            "  Downloading tokenizers-0.13.2-cp38-cp38-manylinux_2_17_x86_64.manylinux2014_x86_64.whl (7.6 MB)\n",
            "\u001b[2K     \u001b[90m━━━━━━━━━━━━━━━━━━━━━━━━━━━━━━━━━━━━━━━━\u001b[0m \u001b[32m7.6/7.6 MB\u001b[0m \u001b[31m101.6 MB/s\u001b[0m eta \u001b[36m0:00:00\u001b[0m\n",
            "\u001b[?25hRequirement already satisfied: typing-extensions>=3.7.4.3 in /usr/local/lib/python3.8/dist-packages (from huggingface-hub<1.0,>=0.11.0->transformers) (4.4.0)\n",
            "Requirement already satisfied: chardet<5,>=3.0.2 in /usr/local/lib/python3.8/dist-packages (from requests->transformers) (4.0.0)\n",
            "Requirement already satisfied: certifi>=2017.4.17 in /usr/local/lib/python3.8/dist-packages (from requests->transformers) (2022.12.7)\n",
            "Requirement already satisfied: idna<3,>=2.5 in /usr/local/lib/python3.8/dist-packages (from requests->transformers) (2.10)\n",
            "Requirement already satisfied: urllib3<1.27,>=1.21.1 in /usr/local/lib/python3.8/dist-packages (from requests->transformers) (1.24.3)\n",
            "Installing collected packages: tokenizers, huggingface-hub, transformers\n",
            "Successfully installed huggingface-hub-0.12.0 tokenizers-0.13.2 transformers-4.26.0\n",
            "Looking in indexes: https://pypi.org/simple, https://us-python.pkg.dev/colab-wheels/public/simple/\n",
            "Collecting jiwer\n",
            "  Downloading jiwer-2.5.1-py3-none-any.whl (15 kB)\n",
            "Collecting levenshtein==0.20.2\n",
            "  Downloading Levenshtein-0.20.2-cp38-cp38-manylinux_2_17_x86_64.manylinux2014_x86_64.whl (1.4 MB)\n",
            "\u001b[2K     \u001b[90m━━━━━━━━━━━━━━━━━━━━━━━━━━━━━━━━━━━━━━━━\u001b[0m \u001b[32m1.4/1.4 MB\u001b[0m \u001b[31m61.6 MB/s\u001b[0m eta \u001b[36m0:00:00\u001b[0m\n",
            "\u001b[?25hCollecting rapidfuzz<3.0.0,>=2.3.0\n",
            "  Downloading rapidfuzz-2.13.7-cp38-cp38-manylinux_2_17_x86_64.manylinux2014_x86_64.whl (2.2 MB)\n",
            "\u001b[2K     \u001b[90m━━━━━━━━━━━━━━━━━━━━━━━━━━━━━━━━━━━━━━━━\u001b[0m \u001b[32m2.2/2.2 MB\u001b[0m \u001b[31m68.4 MB/s\u001b[0m eta \u001b[36m0:00:00\u001b[0m\n",
            "\u001b[?25hInstalling collected packages: rapidfuzz, levenshtein, jiwer\n",
            "Successfully installed jiwer-2.5.1 levenshtein-0.20.2 rapidfuzz-2.13.7\n",
            "Looking in indexes: https://pypi.org/simple, https://us-python.pkg.dev/colab-wheels/public/simple/\n",
            "Collecting pyctcdecode\n",
            "  Downloading pyctcdecode-0.5.0-py2.py3-none-any.whl (39 kB)\n",
            "Collecting hypothesis<7,>=6.14\n",
            "  Downloading hypothesis-6.68.0-py3-none-any.whl (402 kB)\n",
            "\u001b[2K     \u001b[90m━━━━━━━━━━━━━━━━━━━━━━━━━━━━━━━━━━━━━━\u001b[0m \u001b[32m402.7/402.7 KB\u001b[0m \u001b[31m46.6 MB/s\u001b[0m eta \u001b[36m0:00:00\u001b[0m\n",
            "\u001b[?25hCollecting pygtrie<3.0,>=2.1\n",
            "  Downloading pygtrie-2.5.0-py3-none-any.whl (25 kB)\n",
            "Requirement already satisfied: numpy<2.0.0,>=1.15.0 in /usr/local/lib/python3.8/dist-packages (from pyctcdecode) (1.21.6)\n",
            "Requirement already satisfied: sortedcontainers<3.0.0,>=2.1.0 in /usr/local/lib/python3.8/dist-packages (from hypothesis<7,>=6.14->pyctcdecode) (2.4.0)\n",
            "Collecting exceptiongroup>=1.0.0\n",
            "  Downloading exceptiongroup-1.1.0-py3-none-any.whl (14 kB)\n",
            "Requirement already satisfied: attrs>=19.2.0 in /usr/local/lib/python3.8/dist-packages (from hypothesis<7,>=6.14->pyctcdecode) (22.2.0)\n",
            "Installing collected packages: pygtrie, exceptiongroup, hypothesis, pyctcdecode\n",
            "Successfully installed exceptiongroup-1.1.0 hypothesis-6.68.0 pyctcdecode-0.5.0 pygtrie-2.5.0\n"
          ]
        },
        {
          "output_type": "stream",
          "name": "stderr",
          "text": [
            "WARNING:pyctcdecode.language_model:kenlm python bindings are not installed. Most likely you want to install it using: pip install https://github.com/kpu/kenlm/archive/master.zip\n",
            "WARNING:pyctcdecode.decoder:kenlm python bindings are not installed. Most likely you want to install it using: pip install https://github.com/kpu/kenlm/archive/master.zip\n"
          ]
        }
      ]
    },
    {
      "cell_type": "code",
      "source": [
        "!pip install pytube\n",
        "!pip install pydub\n",
        "!pip install moviepy"
      ],
      "metadata": {
        "colab": {
          "base_uri": "https://localhost:8080/"
        },
        "id": "BlRE7ILDL8OJ",
        "outputId": "467b60b0-70a4-406c-b8b2-a355c176dd0f"
      },
      "execution_count": null,
      "outputs": [
        {
          "output_type": "stream",
          "name": "stdout",
          "text": [
            "Looking in indexes: https://pypi.org/simple, https://us-python.pkg.dev/colab-wheels/public/simple/\n",
            "Collecting pytube\n",
            "  Downloading pytube-12.1.2-py3-none-any.whl (57 kB)\n",
            "\u001b[2K     \u001b[90m━━━━━━━━━━━━━━━━━━━━━━━━━━━━━━━━━━━━━━━━\u001b[0m \u001b[32m57.0/57.0 KB\u001b[0m \u001b[31m7.0 MB/s\u001b[0m eta \u001b[36m0:00:00\u001b[0m\n",
            "\u001b[?25hInstalling collected packages: pytube\n",
            "Successfully installed pytube-12.1.2\n",
            "Looking in indexes: https://pypi.org/simple, https://us-python.pkg.dev/colab-wheels/public/simple/\n",
            "Collecting pydub\n",
            "  Downloading pydub-0.25.1-py2.py3-none-any.whl (32 kB)\n",
            "Installing collected packages: pydub\n",
            "Successfully installed pydub-0.25.1\n",
            "Looking in indexes: https://pypi.org/simple, https://us-python.pkg.dev/colab-wheels/public/simple/\n",
            "Requirement already satisfied: moviepy in /usr/local/lib/python3.8/dist-packages (0.2.3.5)\n",
            "Requirement already satisfied: numpy in /usr/local/lib/python3.8/dist-packages (from moviepy) (1.21.6)\n",
            "Requirement already satisfied: imageio<3.0,>=2.1.2 in /usr/local/lib/python3.8/dist-packages (from moviepy) (2.9.0)\n",
            "Requirement already satisfied: decorator<5.0,>=4.0.2 in /usr/local/lib/python3.8/dist-packages (from moviepy) (4.4.2)\n",
            "Requirement already satisfied: tqdm<5.0,>=4.11.2 in /usr/local/lib/python3.8/dist-packages (from moviepy) (4.64.1)\n",
            "Requirement already satisfied: pillow in /usr/local/lib/python3.8/dist-packages (from imageio<3.0,>=2.1.2->moviepy) (7.1.2)\n"
          ]
        }
      ]
    },
    {
      "cell_type": "code",
      "source": [
        "!pip install imageio-ffmpeg"
      ],
      "metadata": {
        "colab": {
          "base_uri": "https://localhost:8080/"
        },
        "id": "EUFDbVyTMI2L",
        "outputId": "271ecc37-6433-40b8-ccdb-a08b0e931153"
      },
      "execution_count": null,
      "outputs": [
        {
          "output_type": "stream",
          "name": "stdout",
          "text": [
            "Looking in indexes: https://pypi.org/simple, https://us-python.pkg.dev/colab-wheels/public/simple/\n",
            "Collecting imageio-ffmpeg\n",
            "  Downloading imageio_ffmpeg-0.4.8-py3-none-manylinux2010_x86_64.whl (26.9 MB)\n",
            "\u001b[2K     \u001b[90m━━━━━━━━━━━━━━━━━━━━━━━━━━━━━━━━━━━━━━━━\u001b[0m \u001b[32m26.9/26.9 MB\u001b[0m \u001b[31m60.6 MB/s\u001b[0m eta \u001b[36m0:00:00\u001b[0m\n",
            "\u001b[?25hInstalling collected packages: imageio-ffmpeg\n",
            "Successfully installed imageio-ffmpeg-0.4.8\n"
          ]
        }
      ]
    },
    {
      "cell_type": "code",
      "source": [
        "cd /content/drive/MyDrive/PL"
      ],
      "metadata": {
        "colab": {
          "base_uri": "https://localhost:8080/"
        },
        "id": "35HaP_rI-CJ8",
        "outputId": "16048d6d-0fce-4039-ca36-a3e755fb59e1"
      },
      "execution_count": null,
      "outputs": [
        {
          "output_type": "stream",
          "name": "stdout",
          "text": [
            "/content/drive/MyDrive/PL\n"
          ]
        }
      ]
    },
    {
      "cell_type": "code",
      "source": [
        "# from model import Net\n",
        "# from cProfile import label\n",
        "# from infer import phonetic_embedding\n",
        "from transformers import Wav2Vec2ForCTC, Wav2Vec2Processor\n",
        "import torch\n",
        "import torch.nn as nn\n",
        "import torch.nn.functional as F\n",
        "from phonetic_encoder import Phonetic_encoder\n",
        "from acoustic_encoder import Acoustic_encoder\n",
        "from linguistic_encoder import Linguistic_encoder\n",
        "from char_embedding import text_to_tensor, clean_corpus\n",
        "from help import wav_norm, Atention\n",
        "import numpy as np\n",
        "# from help import beam_search_decoding\n",
        "from model import Acoustic_Phonetic_Linguistic\n",
        "# from dataloader import MDD_Dataset\n",
        "from torch.utils.data import DataLoader\n",
        "import torch.optim as optim\n",
        "from jiwer import wer, cer\n",
        "tokenizer = Wav2Vec2Processor.from_pretrained(\"pretrained_finetuned\")\n",
        "\n",
        "net = Acoustic_Phonetic_Linguistic()\n",
        "\n",
        "\n",
        "\n"
      ],
      "metadata": {
        "colab": {
          "base_uri": "https://localhost:8080/"
        },
        "id": "hu_pd_h7-JfP",
        "outputId": "91957faa-7338-4e4b-c8f7-fa1cec2997a1"
      },
      "execution_count": null,
      "outputs": [
        {
          "output_type": "stream",
          "name": "stderr",
          "text": [
            "/usr/local/lib/python3.8/dist-packages/transformers/configuration_utils.py:375: UserWarning: Passing `gradient_checkpointing` to a config initialization is deprecated and will be removed in v5 Transformers. Using `model.gradient_checkpointing_enable()` instead, or if you are using the `Trainer` API, pass `gradient_checkpointing=True` in your `TrainingArguments`.\n",
            "  warnings.warn(\n",
            "Special tokens have been added in the vocabulary, make sure the associated word embeddings are fine-tuned or trained.\n",
            "Special tokens have been added in the vocabulary, make sure the associated word embeddings are fine-tuned or trained.\n"
          ]
        }
      ]
    },
    {
      "cell_type": "code",
      "source": [
        "cd /content"
      ],
      "metadata": {
        "colab": {
          "base_uri": "https://localhost:8080/"
        },
        "id": "sPznFy-VPVMc",
        "outputId": "eb965515-fbe9-462c-8af3-5a5b7af95686"
      },
      "execution_count": null,
      "outputs": [
        {
          "output_type": "stream",
          "name": "stdout",
          "text": [
            "/content\n"
          ]
        }
      ]
    },
    {
      "cell_type": "code",
      "source": [
        "!pwd"
      ],
      "metadata": {
        "colab": {
          "base_uri": "https://localhost:8080/"
        },
        "id": "eGPlIPzH1_-f",
        "outputId": "6fe462b8-cda3-4323-a8e2-274fc01ba26e"
      },
      "execution_count": null,
      "outputs": [
        {
          "output_type": "stream",
          "name": "stdout",
          "text": [
            "/content\n"
          ]
        }
      ]
    },
    {
      "cell_type": "code",
      "source": [
        "import os\n",
        "import argparse\n",
        "import librosa\n",
        "import soundfile as sf\n",
        "import re\n",
        "import numpy\n",
        "from pytube import YouTube, Playlist\n",
        "import pytube\n",
        "import torch\n",
        "import torchaudio\n",
        "import torchaudio.functional as F\n",
        "import subprocess\n",
        "\n",
        "\n",
        "# from moviepy.editor import *\n",
        "import glob\n",
        "from pydub import AudioSegment\n",
        "\n",
        "parser = argparse.ArgumentParser()\n",
        "#download setting\n",
        "\n",
        "\n",
        "\n",
        "\n",
        "# video index to continue crawling, index = 0 means the first video\n",
        "START_INDEX = 0\n",
        "\n",
        "# importing the module\n",
        "from pytube import YouTube\n",
        "\n",
        "from pytube import YouTube\n",
        "yt = YouTube('https://www.youtube.com/watch?v=6MQDjb861yo&ab_channel=pingone')\n",
        "yt.streams.filter(progressive=True, file_extension='mp4').order_by('resolution')[-1].download()\n",
        "\n"
      ],
      "metadata": {
        "colab": {
          "base_uri": "https://localhost:8080/",
          "height": 35
        },
        "id": "KAQIzFq6K4LD",
        "outputId": "4f0bbc8c-3b35-4143-9600-411e1a8b3502"
      },
      "execution_count": null,
      "outputs": [
        {
          "output_type": "execute_result",
          "data": {
            "text/plain": [
              "'/content/Tiếng gọi - Bức Tường.mp4'"
            ],
            "application/vnd.google.colaboratory.intrinsic+json": {
              "type": "string"
            }
          },
          "metadata": {},
          "execution_count": 9
        }
      ]
    },
    {
      "cell_type": "code",
      "source": [
        "x = glob.glob(\"*.mp4\")\n",
        "for i in range(len(x)):\n",
        "  os.rename(x[0], 'test.mp4')"
      ],
      "metadata": {
        "id": "CYWVuicSk8yI"
      },
      "execution_count": null,
      "outputs": []
    },
    {
      "cell_type": "code",
      "source": [
        "command = \"ffmpeg -i test.mp4 -ab 160k -ac 2 -ar 44100 -vn /content/test.wav\"\n",
        "subprocess.call(command, shell=True)\n",
        "\n",
        "i = 'test.wav'\n",
        "y, sr = torchaudio.load(i)       \n",
        "y_16k = F.resample(y, sr, 16000)\n",
        "y_16k = y_16k.numpy()\n",
        "y_mono = librosa.to_mono(y_16k)\n",
        "sf.write(i, y_mono, 16000)"
      ],
      "metadata": {
        "id": "lt4O7n3zPvzc"
      },
      "execution_count": null,
      "outputs": []
    },
    {
      "cell_type": "code",
      "source": [
        "from pydub import AudioSegment\n",
        "t1 = 102 * 1000 #Works in milliseconds\n",
        "t2 = 128 * 1000\n",
        "newAudio = AudioSegment.from_wav(\"test.wav\")\n",
        "newAudio = newAudio[t1:t2]\n",
        "newAudio.export('test.wav', format=\"wav\")"
      ],
      "metadata": {
        "id": "Dopqb4I7P-Z8",
        "colab": {
          "base_uri": "https://localhost:8080/"
        },
        "outputId": "7348c2df-8b42-463d-b2ab-16dcde378872"
      },
      "execution_count": null,
      "outputs": [
        {
          "output_type": "execute_result",
          "data": {
            "text/plain": [
              "<_io.BufferedRandom name='test.wav'>"
            ]
          },
          "metadata": {},
          "execution_count": 12
        }
      ]
    },
    {
      "cell_type": "code",
      "source": [
        "cd /content/drive/MyDrive/PL"
      ],
      "metadata": {
        "colab": {
          "base_uri": "https://localhost:8080/"
        },
        "id": "ca6PyFHvQqM-",
        "outputId": "68a44a0e-5fc5-4979-b857-949ab3880484"
      },
      "execution_count": null,
      "outputs": [
        {
          "output_type": "stream",
          "name": "stdout",
          "text": [
            "/content/drive/MyDrive/PL\n"
          ]
        }
      ]
    },
    {
      "cell_type": "code",
      "source": [
        "import torch\n",
        "from infer import phonetic_embedding\n",
        "\n",
        "net = torch.load('/content/drive/MyDrive/PL/MDD_Checkpoint/song_checkpoint.pth')\n",
        "net.eval().to('cuda')\n",
        "path = '/content/test.wav'\n",
        "lyrics = 'Em kề vai tôi ngồi bên thềm Bỏ lại đằng sau những khúc quanh co Và cám dỗ để quay về Ở đó có tôi với em Này đây tiếng gọi rất mềm Thổi ngọn lửa bừng trong mắt thêm sâu Hẹn ước ngày tháng rất xa'\n",
        "phonetic = phonetic_embedding(path).squeeze(0)\n",
        "linguistic = text_to_tensor(lyrics)\n",
        "linguistic = torch.tensor(linguistic)\n",
        "phonetic = phonetic.to('cuda')\n",
        "linguistic = linguistic.to('cuda')\n",
        "phonetic = phonetic.unsqueeze(0)\n",
        "linguistic = linguistic.unsqueeze(0)\n",
        "outputs = net(phonetic, linguistic)\n",
        "outputs = outputs.detach().cpu().numpy()"
      ],
      "metadata": {
        "id": "YM34oXF2-YWc",
        "colab": {
          "base_uri": "https://localhost:8080/"
        },
        "outputId": "8a600607-7755-4747-f140-55e6febba7db"
      },
      "execution_count": null,
      "outputs": [
        {
          "output_type": "stream",
          "name": "stderr",
          "text": [
            "/content/drive/MyDrive/PL/linguistic_encoder.py:26: UserWarning: To copy construct from a tensor, it is recommended to use sourceTensor.clone().detach() or sourceTensor.clone().detach().requires_grad_(True), rather than torch.tensor(sourceTensor).\n",
            "  x = torch.tensor(x, dtype=torch.float)\n"
          ]
        }
      ]
    },
    {
      "cell_type": "code",
      "source": [
        "np.save(\"/content/output.npy\", outputs)"
      ],
      "metadata": {
        "id": "8vc49LTQ-rEm"
      },
      "execution_count": null,
      "outputs": []
    },
    {
      "cell_type": "code",
      "source": [
        "def clean_corpus(str1):\n",
        "    res1 = \"\"\n",
        "    for i in str1:\n",
        "        if i.isalpha() or i==\" \":\n",
        "            res1 = res1 + i\n",
        "    return res1.lower().strip().replace(\"  \", \" \")\n",
        "print(lyrics)\n",
        "print(len(clean_corpus(lyrics)))"
      ],
      "metadata": {
        "colab": {
          "base_uri": "https://localhost:8080/"
        },
        "id": "knUyInRF0Drw",
        "outputId": "748ecb1f-4528-4d3a-f862-3e7d7eab04d1"
      },
      "execution_count": null,
      "outputs": [
        {
          "output_type": "stream",
          "name": "stdout",
          "text": [
            "Em kề vai tôi ngồi bên thềm Bỏ lại đằng sau những khúc quanh co Và cám dỗ để quay về Ở đó có tôi với em Này đây tiếng gọi rất mềm Thổi ngọn lửa bừng trong mắt thêm sâu Hẹn ước ngày tháng rất xa\n",
            "193\n"
          ]
        }
      ]
    },
    {
      "cell_type": "code",
      "source": [
        "# /content/drive/MyDrive/output_alignment_fusion/3130303538355f3338.npy\n",
        "# !pip install torch\n",
        "# from torch.utils.data import Dataset\n",
        "# import matplotlib.pyplot as plt\n",
        "# import os\n",
        "# import pandas as pd\n",
        "import torch.nn.functional as F\n",
        "import torch\n",
        "import numpy as np\n",
        "# import numpy as np\n",
        "# from char_embedding import tensor_to_text\n",
        "import matplotlib.pyplot as plt\n",
        "import glob\n",
        "\n",
        "\n",
        "x = np.load(\"/content/output.npy\")\n",
        "\n",
        "# print(x)\n",
        "\n",
        "x = torch.tensor(x)\n",
        "predicted_ids = torch.argmax(torch.tensor(x), dim=1)\n",
        "\n",
        "\n",
        "x = torch.log_softmax(x, dim=-1)\n",
        "x = x.cpu().detach()\n",
        "\n",
        "\n",
        "labels = ('ắ', 'ồ', 'z', 'ứ', 'ỡ', 'ì', 'x', 'ặ', 'u', 'ẹ', 'd', 'ỵ', 'r', 'p', 't', 'ỳ', 'ẩ', 'f', 'ó', 'á', 'v', 'ã', 'i', 'ư', 'ở', 'ễ', 'ụ', 'ú', 'ũ', ' ', 'ă', 'é', 'ằ', 'a', 'ấ', 'ờ', 'ữ', 'ớ', 'n', 'ý', 's', 'h', 'ơ', 'ị', 'l', 'c', 'k', 'ỷ', 'ỗ', 'ế', 'ẻ', 'ợ', 'ẫ', 'í', 'ỏ', 'ủ', 'g', 'q', 'j', 'ò', 'ỹ', 'ự', 'ô', 'b', 'y', 'ĩ', 'ỉ', 'ẵ', 'ầ', 'ê', 'ộ', 'ậ', 'm', 'ń', 'o', 'ọ', 'đ', 'ẽ', 'ử', 'à', 'è', 'e', 'ẳ', 'ổ', 'ù', 'w', 'ả', 'ạ', 'â', 'ệ', 'ề', 'õ', 'ố', 'ể', 'ừ',)\n",
        "\n",
        "# def clean_corpus(str1):\n",
        "#     res1 = \"\"\n",
        "#     for i in str1:\n",
        "#         if i.isalpha() or i==\" \":\n",
        "#             res1 = res1 + i\n",
        "#     return res1.lower().strip().replace(\"  \", \" \")\n",
        "transcript = \" \" + lyrics + \"\"\n",
        "transcript = clean_corpus(transcript)\n",
        "dictionary = {c: i for i, c in enumerate(labels)}\n",
        "\n",
        "tokens = [dictionary[c] for c in transcript]\n",
        "\n",
        "\n",
        "def get_trellis(x, tokens, blank_id=95):\n",
        "    num_frame = x.size(0)\n",
        "    num_tokens = len(tokens)\n",
        "\n",
        "    # Trellis has extra diemsions for both time axis and tokens.\n",
        "    # The extra dim for tokens represents <SoS> (start-of-sentence)\n",
        "    # The extra dim for time axis is for simplification of the code.\n",
        "    trellis = torch.empty((num_frame + 1, num_tokens + 1))\n",
        "    trellis[0, 0] = 0\n",
        "    trellis[1:, 0] = torch.cumsum(x[:, 0], 0)\n",
        "    trellis[0, -num_tokens:] = -float(\"inf\")\n",
        "    trellis[-num_tokens:, 0] = float(\"inf\")\n",
        "\n",
        "    for t in range(num_frame):\n",
        "        trellis[t + 1, 1:] = torch.maximum(\n",
        "            # Score for staying at the same token\n",
        "            trellis[t, 1:] + x[t, blank_id],\n",
        "            # Score for changing to the next token\n",
        "            trellis[t, :-1] + x[t, tokens],\n",
        "        )\n",
        "    return trellis\n",
        "\n",
        "\n",
        "trellis = get_trellis(x, tokens)\n",
        "plt.imshow(trellis[1:, 1:].T, origin=\"lower\")\n",
        "plt.annotate(\"- Inf\", (trellis.size(1) / 5, trellis.size(1) / 1.5))\n",
        "plt.colorbar()\n",
        "plt.show()\n",
        "\n",
        "from dataclasses import dataclass\n",
        "@dataclass\n",
        "class Point:\n",
        "  token_index: int\n",
        "  time_index: int\n",
        "  score: float\n",
        "\n",
        "\n",
        "def backtrack(trellis, emission, tokens, blank_id=95):\n",
        "  # Note:\n",
        "  # j and t are indices for trellis, which has extra dimensions \n",
        "  # for time and tokens at the beginning.\n",
        "  # When refering to time frame index `T` in trellis,\n",
        "  # the corresponding index in emission is `T-1`.\n",
        "  # Similarly, when refering to token index `J` in trellis,\n",
        "  # the corresponding index in transcript is `J-1`.\n",
        "  j = trellis.size(1) - 1\n",
        "  t_start = torch.argmax(trellis[:, j]).item()\n",
        "\n",
        "  path = []\n",
        "  for t in range(t_start, 0, -1):\n",
        "    # 1. Figure out if the current position was stay or change\n",
        "    # Note (again):\n",
        "    # `emission[J-1]` is the emission at time frame `J` of trellis dimension.\n",
        "    # Score for token staying the same from time frame J-1 to T.\n",
        "    stayed = trellis[t-1, j] + emission[t-1, blank_id]\n",
        "    # Score for token changing from C-1 at T-1 to J at T.\n",
        "    changed = trellis[t-1, j-1] + emission[t-1, tokens[j-1]]\n",
        "\n",
        "    # 2. Store the path with frame-wise probability.\n",
        "    prob = emission[t-1, tokens[j-1] if changed > stayed else 0].exp().item()\n",
        "    # Return token index and time index in non-trellis coordinate.\n",
        "    path.append(Point(j-1, t-1, prob))\n",
        "\n",
        "    # 3. Update the token\n",
        "    if changed > stayed:\n",
        "      j -= 1\n",
        "      if j == 0:\n",
        "        break\n",
        "  else:\n",
        "    raise ValueError('Failed to align')\n",
        "  return path[::-1]\n",
        "\n",
        "path = backtrack(trellis, x, tokens)\n",
        "def plot_trellis_with_path(trellis, path):\n",
        "    # To plot trellis with path, we take advantage of 'nan' value\n",
        "    trellis_with_path = trellis.clone()\n",
        "    for _, p in enumerate(path):\n",
        "        trellis_with_path[p.time_index, p.token_index] = float(\"nan\")\n",
        "    plt.imshow(trellis_with_path[1:, 1:].T, origin=\"lower\")\n",
        "\n",
        "\n",
        "plot_trellis_with_path(trellis, path)\n",
        "plt.title(\"The path found by backtracking\")\n",
        "plt.show()\n",
        "\n",
        "@dataclass\n",
        "class Segment:\n",
        "    label: str\n",
        "    start: int\n",
        "    end: int\n",
        "    score: float\n",
        "    \n",
        "\n",
        "    def __repr__(self):\n",
        "      return f\"{self.start} --> {self.end} {self.label} \\n\"\n",
        "\n",
        "    @property\n",
        "    def length(self):\n",
        "        return self.end - self.start\n",
        "\n",
        "\n",
        "def merge_repeats(path):\n",
        "    i1, i2 = 0, 0\n",
        "    segments = []\n",
        "    while i1 < len(path):\n",
        "        while i2 < len(path) and path[i1].token_index == path[i2].token_index:\n",
        "            i2 += 1\n",
        "        score = sum(path[k].score for k in range(i1, i2)) / (i2 - i1)\n",
        "        segments.append(\n",
        "            Segment(\n",
        "                transcript[path[i1].token_index],\n",
        "                path[i1].time_index,\n",
        "                path[i2 - 1].time_index + 1,\n",
        "                score,\n",
        "            )\n",
        "        )\n",
        "        i1 = i2\n",
        "    return segments\n",
        "\n",
        "\n",
        "segments = merge_repeats(path)\n",
        "\n",
        "def plot_trellis_with_segments(trellis, segments, transcript):\n",
        "    # To plot trellis with path, we take advantage of 'nan' value\n",
        "    trellis_with_path = trellis.clone()\n",
        "    for i, seg in enumerate(segments):\n",
        "        if seg.label != \"|\":\n",
        "            trellis_with_path[seg.start + 1 : seg.end + 1, i + 1] = float(\"nan\")\n",
        "\n",
        "    fig, [ax1, ax2] = plt.subplots(2, 1, figsize=(16, 9.5))\n",
        "    ax1.set_title(\"Path, label and probability for each label\")\n",
        "    ax1.imshow(trellis_with_path.T, origin=\"lower\")\n",
        "    ax1.set_xticks([])\n",
        "\n",
        "    for i, seg in enumerate(segments):\n",
        "        if seg.label != \"|\":\n",
        "            ax1.annotate(seg.label, (seg.start + 0.7, i + 0.3), weight=\"bold\")\n",
        "            ax1.annotate(f\"{seg.score:.2f}\", (seg.start - 0.3, i + 4.3))\n",
        "\n",
        "    ax2.set_title(\"Label probability with and without repetation\")\n",
        "    xs, hs, ws = [], [], []\n",
        "    for seg in segments:\n",
        "        if seg.label != \"|\":\n",
        "            xs.append((seg.end + seg.start) / 2 + 0.4)\n",
        "            hs.append(seg.score)\n",
        "            ws.append(seg.end - seg.start)\n",
        "            ax2.annotate(seg.label, (seg.start + 0.8, -0.07), weight=\"bold\")\n",
        "    ax2.bar(xs, hs, width=ws, color=\"gray\", alpha=0.5, edgecolor=\"black\")\n",
        "\n",
        "    xs, hs = [], []\n",
        "    for p in path:\n",
        "        label = transcript[p.token_index]\n",
        "        if label != \"|\":\n",
        "            xs.append(p.time_index + 1)\n",
        "            hs.append(p.score)\n",
        "\n",
        "    ax2.bar(xs, hs, width=0.5, alpha=0.5)\n",
        "    ax2.axhline(0, color=\"black\")\n",
        "    ax2.set_xlim(ax1.get_xlim())\n",
        "    ax2.set_ylim(-0.1, 1.1)\n",
        "\n",
        "\n",
        "plot_trellis_with_segments(trellis, segments, transcript)\n",
        "plt.tight_layout()\n",
        "plt.show()\n",
        "# Merge words\n",
        "def merge_words(segments, separator=\" \"):\n",
        "    words = []\n",
        "    i1, i2 = 0, 0\n",
        "    while i1 < len(segments):\n",
        "        if i2 >= len(segments) or segments[i2].label == separator:\n",
        "            if i1 != i2:\n",
        "                segs = segments[i1:i2]\n",
        "                word = \"\".join([seg.label for seg in segs])\n",
        "                score = sum(seg.score * seg.length for seg in segs) / sum(seg.length for seg in segs)\n",
        "                words.append(Segment(word, segments[i1].start*20, segments[i2 - 1].end*20, score))\n",
        "            i1 = i2 + 1\n",
        "            i2 = i1\n",
        "        else:\n",
        "            i2 += 1\n",
        "    return words\n",
        "\n",
        "\n",
        "word_segments = merge_words(segments)\n"
      ],
      "metadata": {
        "colab": {
          "base_uri": "https://localhost:8080/",
          "height": 857
        },
        "id": "dcI7rHUh_Bbz",
        "outputId": "1bb16223-3a48-4e7b-f08b-f3abeed20812"
      },
      "execution_count": null,
      "outputs": [
        {
          "output_type": "stream",
          "name": "stderr",
          "text": [
            "<ipython-input-16-b51369a4e672>:21: UserWarning: To copy construct from a tensor, it is recommended to use sourceTensor.clone().detach() or sourceTensor.clone().detach().requires_grad_(True), rather than torch.tensor(sourceTensor).\n",
            "  predicted_ids = torch.argmax(torch.tensor(x), dim=1)\n"
          ]
        },
        {
          "output_type": "display_data",
          "data": {
            "text/plain": [
              "<Figure size 432x288 with 2 Axes>"
            ],
            "image/png": "[encoded data removed]"
          },
          "metadata": {
            "needs_background": "light"
          }
        },
        {
          "output_type": "display_data",
          "data": {
            "text/plain": [
              "<Figure size 432x288 with 1 Axes>"
            ],
            "image/png": "[encoded data removed]"
          },
          "metadata": {
            "needs_background": "light"
          }
        },
        {
          "output_type": "display_data",
          "data": {
            "text/plain": [
              "<Figure size 1152x684 with 2 Axes>"
            ],
            "image/png": "[encoded data removed]"
          },
          "metadata": {
            "needs_background": "light"
          }
        }
      ]
    },
    {
      "cell_type": "code",
      "source": [
        "def format_millis(milliseconds):\n",
        "  millis = milliseconds\n",
        "  millisecond = int(millis%1000)\n",
        "  millisecond = str(millisecond)\n",
        "  if len(millisecond)==0:\n",
        "    millisecond = '000'\n",
        "  elif len(millisecond) == 1:\n",
        "    millisecond = '00' + millisecond\n",
        "  elif len(millisecond) == 2:\n",
        "    millisecond = '0' + millisecond\n",
        "\n",
        "  seconds=(millis/1000)%60\n",
        "  seconds = int(seconds)\n",
        "  seconds = str(seconds)\n",
        "  if len(seconds) == 1:\n",
        "    seconds = '0' + seconds\n",
        "  minutes=(millis/(1000*60))%60\n",
        "  \n",
        "  minutes = int(minutes)\n",
        "  minutes = str(minutes)\n",
        "  if len(minutes) == 1:\n",
        "    minutes = '0' + minutes\n",
        "\n",
        "  hours=(millis/(1000*60*60))%24\n",
        "  hours = int(hours)\n",
        "  hours = str(hours)\n",
        "  if len(hours) == 1:\n",
        "    hours = '0' + hours\n",
        "\n",
        "  return (hours + \":\" + minutes + \":\" +  seconds + \",\" + millisecond)"
      ],
      "metadata": {
        "id": "u5EQ36cu_Dat"
      },
      "execution_count": null,
      "outputs": []
    },
    {
      "cell_type": "code",
      "source": [
        "f = open(\"/content/tienggoi.srt\", \"a\")\n",
        "for i in range(len(word_segments)):\n",
        " \n",
        "  if (i==0):\n",
        "    start = str(str(word_segments[i])).split(\" \")[0]\n",
        "    end_before = int(str(str(word_segments[i])).split(\" \")[2])\n",
        "    word = str(str(word_segments[i])).split(\" \")[3]\n",
        "    if int(start)>=200:\n",
        "      start = int(start)-200\n",
        "    else:\n",
        "      start = 0\n",
        "    start_next = int(str(word_segments[i+1]).split(\" \")[0])\n",
        "    end = (2*end_before + start_next)/3\n",
        "  elif i==len(word_segments)-1:\n",
        "    end_before = int(str(word_segments[i-1]).split(\" \")[2])\n",
        "    start_next = int(str(word_segments[i]).split(\" \")[0])\n",
        "    end = int(str(word_segments[i]).split(\" \")[2]) + 250\n",
        "    start = (2*end_before+start_next)/3\n",
        "    word = str(word_segments[i]).split(\" \")[3]\n",
        "  else:\n",
        "    end_before = int(str(word_segments[i-1]).split(\" \")[2])\n",
        "    start_next = int(str(word_segments[i+1]).split(\" \")[0])\n",
        "    end = int(str(word_segments[i]).split(\" \")[2])\n",
        "    start = int(str(word_segments[i]).split(\" \")[0])\n",
        "    start = (2*end_before+start)/3\n",
        "    end = (2*end + start_next)/3\n",
        "    word = str(word_segments[i]).split(\" \")[3]\n",
        "  \n",
        "  start = (format_millis(start))\n",
        "  end = (format_millis(end))\n",
        "  one_line = str(i+1) + \"\\n\" + start + \" --> \" + end + \"\\n\" + str(word) + \"\\n\\n\"\n",
        "  print(one_line)\n",
        "  f.write(one_line)\n"
      ],
      "metadata": {
        "colab": {
          "base_uri": "https://localhost:8080/"
        },
        "id": "YaCYVgqQ_Ggq",
        "outputId": "7d1f0a5f-dffa-4ff6-a574-e90525f4e496"
      },
      "execution_count": null,
      "outputs": [
        {
          "output_type": "stream",
          "name": "stdout",
          "text": [
            "1\n",
            "00:00:00,000 --> 00:00:01,660\n",
            "em\n",
            "\n",
            "\n",
            "2\n",
            "00:00:01,660 --> 00:00:02,066\n",
            "kề\n",
            "\n",
            "\n",
            "3\n",
            "00:00:02,066 --> 00:00:02,666\n",
            "vai\n",
            "\n",
            "\n",
            "4\n",
            "00:00:02,666 --> 00:00:03,080\n",
            "tôi\n",
            "\n",
            "\n",
            "5\n",
            "00:00:03,080 --> 00:00:03,313\n",
            "ngồi\n",
            "\n",
            "\n",
            "6\n",
            "00:00:03,313 --> 00:00:03,640\n",
            "bên\n",
            "\n",
            "\n",
            "7\n",
            "00:00:03,640 --> 00:00:05,113\n",
            "thềm\n",
            "\n",
            "\n",
            "8\n",
            "00:00:05,113 --> 00:00:05,380\n",
            "bỏ\n",
            "\n",
            "\n",
            "9\n",
            "00:00:05,380 --> 00:00:05,760\n",
            "lại\n",
            "\n",
            "\n",
            "10\n",
            "00:00:05,760 --> 00:00:05,953\n",
            "đằng\n",
            "\n",
            "\n",
            "11\n",
            "00:00:05,953 --> 00:00:06,546\n",
            "sau\n",
            "\n",
            "\n",
            "12\n",
            "00:00:06,546 --> 00:00:06,880\n",
            "những\n",
            "\n",
            "\n",
            "13\n",
            "00:00:06,880 --> 00:00:07,206\n",
            "khúc\n",
            "\n",
            "\n",
            "14\n",
            "00:00:07,206 --> 00:00:07,526\n",
            "quanh\n",
            "\n",
            "\n",
            "15\n",
            "00:00:07,526 --> 00:00:08,366\n",
            "co\n",
            "\n",
            "\n",
            "16\n",
            "00:00:08,366 --> 00:00:08,606\n",
            "và\n",
            "\n",
            "\n",
            "17\n",
            "00:00:08,606 --> 00:00:08,986\n",
            "cám\n",
            "\n",
            "\n",
            "18\n",
            "00:00:08,986 --> 00:00:09,220\n",
            "dỗ\n",
            "\n",
            "\n",
            "19\n",
            "00:00:09,220 --> 00:00:09,620\n",
            "để\n",
            "\n",
            "\n",
            "20\n",
            "00:00:09,620 --> 00:00:10,013\n",
            "quay\n",
            "\n",
            "\n",
            "21\n",
            "00:00:10,013 --> 00:00:11,660\n",
            "về\n",
            "\n",
            "\n",
            "22\n",
            "00:00:11,660 --> 00:00:11,860\n",
            "ở\n",
            "\n",
            "\n",
            "23\n",
            "00:00:11,860 --> 00:00:12,286\n",
            "đó\n",
            "\n",
            "\n",
            "24\n",
            "00:00:12,286 --> 00:00:12,473\n",
            "có\n",
            "\n",
            "\n",
            "25\n",
            "00:00:12,473 --> 00:00:13,046\n",
            "tôi\n",
            "\n",
            "\n",
            "26\n",
            "00:00:13,046 --> 00:00:13,426\n",
            "với\n",
            "\n",
            "\n",
            "27\n",
            "00:00:13,426 --> 00:00:14,813\n",
            "em\n",
            "\n",
            "\n",
            "28\n",
            "00:00:14,813 --> 00:00:15,066\n",
            "này\n",
            "\n",
            "\n",
            "29\n",
            "00:00:15,066 --> 00:00:15,446\n",
            "đây\n",
            "\n",
            "\n",
            "30\n",
            "00:00:15,446 --> 00:00:15,686\n",
            "tiếng\n",
            "\n",
            "\n",
            "31\n",
            "00:00:15,686 --> 00:00:16,073\n",
            "gọi\n",
            "\n",
            "\n",
            "32\n",
            "00:00:16,073 --> 00:00:16,706\n",
            "rất\n",
            "\n",
            "\n",
            "33\n",
            "00:00:16,706 --> 00:00:18,180\n",
            "mềm\n",
            "\n",
            "\n",
            "34\n",
            "00:00:18,180 --> 00:00:18,400\n",
            "thổi\n",
            "\n",
            "\n",
            "35\n",
            "00:00:18,400 --> 00:00:18,806\n",
            "ngọn\n",
            "\n",
            "\n",
            "36\n",
            "00:00:18,806 --> 00:00:19,006\n",
            "lửa\n",
            "\n",
            "\n",
            "37\n",
            "00:00:19,006 --> 00:00:19,606\n",
            "bừng\n",
            "\n",
            "\n",
            "38\n",
            "00:00:19,606 --> 00:00:19,993\n",
            "trong\n",
            "\n",
            "\n",
            "39\n",
            "00:00:19,993 --> 00:00:20,266\n",
            "mắt\n",
            "\n",
            "\n",
            "40\n",
            "00:00:20,266 --> 00:00:20,593\n",
            "thêm\n",
            "\n",
            "\n",
            "41\n",
            "00:00:20,593 --> 00:00:21,493\n",
            "sâu\n",
            "\n",
            "\n",
            "42\n",
            "00:00:21,493 --> 00:00:21,793\n",
            "hẹn\n",
            "\n",
            "\n",
            "43\n",
            "00:00:21,793 --> 00:00:22,086\n",
            "ước\n",
            "\n",
            "\n",
            "44\n",
            "00:00:22,086 --> 00:00:22,320\n",
            "ngày\n",
            "\n",
            "\n",
            "45\n",
            "00:00:22,320 --> 00:00:22,900\n",
            "tháng\n",
            "\n",
            "\n",
            "46\n",
            "00:00:22,900 --> 00:00:23,293\n",
            "rất\n",
            "\n",
            "\n",
            "47\n",
            "00:00:23,293 --> 00:00:23,770\n",
            "xa\n",
            "\n",
            "\n"
          ]
        }
      ]
    },
    {
      "cell_type": "code",
      "source": [
        "!ffmpeg -i /content/lyric_align.jpg -i \"/content/test.wav\" -sub_charenc utf-8 -i \"/content/tienggoi.srt\" \"/content/OUTPUT.mp4\""
      ],
      "metadata": {
        "id": "uPQuNbKWD9Om",
        "colab": {
          "base_uri": "https://localhost:8080/"
        },
        "outputId": "7fe1b9de-adf6-49a4-c6e7-de0cc4e721d3"
      },
      "execution_count": null,
      "outputs": [
        {
          "output_type": "stream",
          "name": "stdout",
          "text": [
            "ffmpeg version 4.2.7-0ubuntu0.1 Copyright (c) 2000-2022 the FFmpeg developers\n",
            "  built with gcc 9 (Ubuntu 9.4.0-1ubuntu1~20.04.1)\n",
            "  configuration: --prefix=/usr --extra-version=0ubuntu0.1 --toolchain=hardened --libdir=/usr/lib/x86_64-linux-gnu --incdir=/usr/include/x86_64-linux-gnu --arch=amd64 --enable-gpl --disable-stripping --enable-avresample --disable-filter=resample --enable-avisynth --enable-gnutls --enable-ladspa --enable-libaom --enable-libass --enable-libbluray --enable-libbs2b --enable-libcaca --enable-libcdio --enable-libcodec2 --enable-libflite --enable-libfontconfig --enable-libfreetype --enable-libfribidi --enable-libgme --enable-libgsm --enable-libjack --enable-libmp3lame --enable-libmysofa --enable-libopenjpeg --enable-libopenmpt --enable-libopus --enable-libpulse --enable-librsvg --enable-librubberband --enable-libshine --enable-libsnappy --enable-libsoxr --enable-libspeex --enable-libssh --enable-libtheora --enable-libtwolame --enable-libvidstab --enable-libvorbis --enable-libvpx --enable-libwavpack --enable-libwebp --enable-libx265 --enable-libxml2 --enable-libxvid --enable-libzmq --enable-libzvbi --enable-lv2 --enable-omx --enable-openal --enable-opencl --enable-opengl --enable-sdl2 --enable-libdc1394 --enable-libdrm --enable-libiec61883 --enable-nvenc --enable-chromaprint --enable-frei0r --enable-libx264 --enable-shared\n",
            "  libavutil      56. 31.100 / 56. 31.100\n",
            "  libavcodec     58. 54.100 / 58. 54.100\n",
            "  libavformat    58. 29.100 / 58. 29.100\n",
            "  libavdevice    58.  8.100 / 58.  8.100\n",
            "  libavfilter     7. 57.100 /  7. 57.100\n",
            "  libavresample   4.  0.  0 /  4.  0.  0\n",
            "  libswscale      5.  5.100 /  5.  5.100\n",
            "  libswresample   3.  5.100 /  3.  5.100\n",
            "  libpostproc    55.  5.100 / 55.  5.100\n",
            "Input #0, image2, from '/content/lyric_align.jpg':\n",
            "  Duration: 00:00:00.04, start: 0.000000, bitrate: 5082 kb/s\n",
            "    Stream #0:0: Video: mjpeg (Progressive), yuvj444p(pc, bt470bg/unknown/unknown), 612x357 [SAR 300:300 DAR 12:7], 25 tbr, 25 tbn, 25 tbc\n",
            "\u001b[0;33mGuessed Channel Layout for Input Stream #1.0 : mono\n",
            "\u001b[0mInput #1, wav, from '/content/test.wav':\n",
            "  Duration: 00:00:26.00, bitrate: 256 kb/s\n",
            "    Stream #1:0: Audio: pcm_s16le ([1][0][0][0] / 0x0001), 16000 Hz, mono, s16, 256 kb/s\n",
            "Input #2, srt, from '/content/tienggoi.srt':\n",
            "  Duration: N/A, bitrate: N/A\n",
            "    Stream #2:0: Subtitle: subrip\n",
            "Stream mapping:\n",
            "  Stream #0:0 -> #0:0 (mjpeg (native) -> h264 (libx264))\n",
            "  Stream #1:0 -> #0:1 (pcm_s16le (native) -> aac (native))\n",
            "Press [q] to stop, [?] for help\n",
            "\u001b[1;36m[libx264 @ 0x5601ebd75080] \u001b[0musing SAR=1/1\n",
            "\u001b[1;36m[libx264 @ 0x5601ebd75080] \u001b[0musing cpu capabilities: MMX2 SSE2Fast SSSE3 SSE4.2 AVX FMA3 BMI2 AVX2 AVX512\n",
            "\u001b[1;36m[libx264 @ 0x5601ebd75080] \u001b[0mprofile High 4:4:4 Predictive, level 3.0, 4:4:4 8-bit\n",
            "\u001b[1;36m[libx264 @ 0x5601ebd75080] \u001b[0m264 - core 155 r2917 0a84d98 - H.264/MPEG-4 AVC codec - Copyleft 2003-2018 - http://www.videolan.org/x264.html - options: cabac=1 ref=3 deblock=1:0:0 analyse=0x1:0x111 me=hex subme=7 psy=1 psy_rd=1.00:0.00 mixed_ref=1 me_range=16 chroma_me=1 trellis=1 8x8dct=0 cqm=0 deadzone=21,11 fast_pskip=1 chroma_qp_offset=4 threads=3 lookahead_threads=1 sliced_threads=0 nr=0 decimate=1 interlaced=0 bluray_compat=0 constrained_intra=0 bframes=3 b_pyramid=2 b_adapt=1 b_bias=0 direct=1 weightb=1 open_gop=0 weightp=2 keyint=250 keyint_min=25 scenecut=40 intra_refresh=0 rc_lookahead=40 rc=crf mbtree=1 crf=23.0 qcomp=0.60 qpmin=0 qpmax=69 qpstep=4 ip_ratio=1.40 aq=1:1.00\n",
            "Output #0, mp4, to '/content/OUTPUT.mp4':\n",
            "  Metadata:\n",
            "    encoder         : Lavf58.29.100\n",
            "    Stream #0:0: Video: h264 (libx264) (avc1 / 0x31637661), yuvj444p(pc, progressive), 612x357 [SAR 300:300 DAR 12:7], q=-1--1, 25 fps, 12800 tbn, 25 tbc\n",
            "    Metadata:\n",
            "      encoder         : Lavc58.54.100 libx264\n",
            "    Side data:\n",
            "      cpb: bitrate max/min/avg: 0/0/0 buffer size: 0 vbv_delay: -1\n",
            "    Stream #0:1: Audio: aac (LC) (mp4a / 0x6134706D), 16000 Hz, mono, fltp, 69 kb/s\n",
            "    Metadata:\n",
            "      encoder         : Lavc58.54.100 aac\n",
            "frame=    1 fps=0.0 q=28.0 Lsize=     231kB time=00:00:26.04 bitrate=  72.8kbits/s speed= 274x    \n",
            "video:9kB audio:220kB subtitle:0kB other streams:0kB global headers:0kB muxing overhead: 1.288406%\n",
            "\u001b[1;36m[libx264 @ 0x5601ebd75080] \u001b[0mframe I:1     Avg QP:25.94  size:  8221\n",
            "\u001b[1;36m[libx264 @ 0x5601ebd75080] \u001b[0mmb I  I16..4: 80.9%  0.0% 19.1%\n",
            "\u001b[1;36m[libx264 @ 0x5601ebd75080] \u001b[0mcoded y,u,v intra: 40.7% 13.2% 9.7%\n",
            "\u001b[1;36m[libx264 @ 0x5601ebd75080] \u001b[0mi16 v,h,dc,p:  7% 85%  6%  2%\n",
            "\u001b[1;36m[libx264 @ 0x5601ebd75080] \u001b[0mi4 v,h,dc,ddl,ddr,vr,hd,vl,hu:  7% 58% 11%  5%  2%  2%  3%  6%  5%\n",
            "\u001b[1;36m[libx264 @ 0x5601ebd75080] \u001b[0mkb/s:1644.20\n",
            "\u001b[1;36m[aac @ 0x5601ebd7e9c0] \u001b[0mQavg: 297.992\n"
          ]
        }
      ]
    },
    {
      "cell_type": "code",
      "source": [
        "# !ffmpeg -i /content/test.mp4 -sub_charenc utf-8 -i \"/content/rap_thoiquen.srt\" \"/content/OUTPUT.mp4\""
      ],
      "metadata": {
        "colab": {
          "base_uri": "https://localhost:8080/"
        },
        "id": "wtIV4r6o5_Jj",
        "outputId": "52c35572-4edc-4705-9c5d-402f4eee0e6e"
      },
      "execution_count": null,
      "outputs": [
        {
          "output_type": "stream",
          "name": "stdout",
          "text": [
            "ffmpeg version 4.2.7-0ubuntu0.1 Copyright (c) 2000-2022 the FFmpeg developers\n",
            "  built with gcc 9 (Ubuntu 9.4.0-1ubuntu1~20.04.1)\n",
            "  configuration: --prefix=/usr --extra-version=0ubuntu0.1 --toolchain=hardened --libdir=/usr/lib/x86_64-linux-gnu --incdir=/usr/include/x86_64-linux-gnu --arch=amd64 --enable-gpl --disable-stripping --enable-avresample --disable-filter=resample --enable-avisynth --enable-gnutls --enable-ladspa --enable-libaom --enable-libass --enable-libbluray --enable-libbs2b --enable-libcaca --enable-libcdio --enable-libcodec2 --enable-libflite --enable-libfontconfig --enable-libfreetype --enable-libfribidi --enable-libgme --enable-libgsm --enable-libjack --enable-libmp3lame --enable-libmysofa --enable-libopenjpeg --enable-libopenmpt --enable-libopus --enable-libpulse --enable-librsvg --enable-librubberband --enable-libshine --enable-libsnappy --enable-libsoxr --enable-libspeex --enable-libssh --enable-libtheora --enable-libtwolame --enable-libvidstab --enable-libvorbis --enable-libvpx --enable-libwavpack --enable-libwebp --enable-libx265 --enable-libxml2 --enable-libxvid --enable-libzmq --enable-libzvbi --enable-lv2 --enable-omx --enable-openal --enable-opencl --enable-opengl --enable-sdl2 --enable-libdc1394 --enable-libdrm --enable-libiec61883 --enable-nvenc --enable-chromaprint --enable-frei0r --enable-libx264 --enable-shared\n",
            "  libavutil      56. 31.100 / 56. 31.100\n",
            "  libavcodec     58. 54.100 / 58. 54.100\n",
            "  libavformat    58. 29.100 / 58. 29.100\n",
            "  libavdevice    58.  8.100 / 58.  8.100\n",
            "  libavfilter     7. 57.100 /  7. 57.100\n",
            "  libavresample   4.  0.  0 /  4.  0.  0\n",
            "  libswscale      5.  5.100 /  5.  5.100\n",
            "  libswresample   3.  5.100 /  3.  5.100\n",
            "  libpostproc    55.  5.100 / 55.  5.100\n",
            "Input #0, mov,mp4,m4a,3gp,3g2,mj2, from '/content/test.mp4':\n",
            "  Metadata:\n",
            "    major_brand     : mp42\n",
            "    minor_version   : 0\n",
            "    compatible_brands: isommp42\n",
            "    creation_time   : 2022-03-13T02:48:03.000000Z\n",
            "  Duration: 00:00:56.63, start: 0.000000, bitrate: 628 kb/s\n",
            "    Stream #0:0(und): Video: h264 (High) (avc1 / 0x31637661), yuv420p(tv, bt709), 406x720 [SAR 1:1 DAR 203:360], 496 kb/s, 29.78 fps, 29.78 tbr, 14891 tbn, 59.56 tbc (default)\n",
            "    Metadata:\n",
            "      creation_time   : 2022-03-13T02:48:03.000000Z\n",
            "      handler_name    : ISO Media file produced by Google Inc. Created on: 03/12/2022.\n",
            "    Stream #0:1(und): Audio: aac (LC) (mp4a / 0x6134706D), 44100 Hz, stereo, fltp, 128 kb/s (default)\n",
            "    Metadata:\n",
            "      creation_time   : 2022-03-13T02:48:03.000000Z\n",
            "      handler_name    : ISO Media file produced by Google Inc. Created on: 03/12/2022.\n",
            "Input #1, srt, from '/content/rap_thoiquen.srt':\n",
            "  Duration: N/A, bitrate: N/A\n",
            "    Stream #1:0: Subtitle: subrip\n",
            "Stream mapping:\n",
            "  Stream #0:0 -> #0:0 (h264 (native) -> h264 (libx264))\n",
            "  Stream #0:1 -> #0:1 (aac (native) -> aac (native))\n",
            "Press [q] to stop, [?] for help\n",
            "\u001b[1;36m[libx264 @ 0x559385694000] \u001b[0musing SAR=1/1\n",
            "\u001b[1;36m[libx264 @ 0x559385694000] \u001b[0musing cpu capabilities: MMX2 SSE2Fast SSSE3 SSE4.2 AVX FMA3 BMI2 AVX2 AVX512\n",
            "\u001b[1;36m[libx264 @ 0x559385694000] \u001b[0mprofile High, level 3.0\n",
            "\u001b[1;36m[libx264 @ 0x559385694000] \u001b[0m264 - core 155 r2917 0a84d98 - H.264/MPEG-4 AVC codec - Copyleft 2003-2018 - http://www.videolan.org/x264.html - options: cabac=1 ref=3 deblock=1:0:0 analyse=0x3:0x113 me=hex subme=7 psy=1 psy_rd=1.00:0.00 mixed_ref=1 me_range=16 chroma_me=1 trellis=1 8x8dct=1 cqm=0 deadzone=21,11 fast_pskip=1 chroma_qp_offset=-2 threads=3 lookahead_threads=1 sliced_threads=0 nr=0 decimate=1 interlaced=0 bluray_compat=0 constrained_intra=0 bframes=3 b_pyramid=2 b_adapt=1 b_bias=0 direct=1 weightb=1 open_gop=0 weightp=2 keyint=250 keyint_min=25 scenecut=40 intra_refresh=0 rc_lookahead=40 rc=crf mbtree=1 crf=23.0 qcomp=0.60 qpmin=0 qpmax=69 qpstep=4 ip_ratio=1.40 aq=1:1.00\n",
            "Output #0, mp4, to '/content/OUTPUT.mp4':\n",
            "  Metadata:\n",
            "    major_brand     : mp42\n",
            "    minor_version   : 0\n",
            "    compatible_brands: isommp42\n",
            "    encoder         : Lavf58.29.100\n",
            "    Stream #0:0(und): Video: h264 (libx264) (avc1 / 0x31637661), yuv420p(progressive), 406x720 [SAR 1:1 DAR 203:360], q=-1--1, 29.78 fps, 14891 tbn, 29.78 tbc (default)\n",
            "    Metadata:\n",
            "      creation_time   : 2022-03-13T02:48:03.000000Z\n",
            "      handler_name    : ISO Media file produced by Google Inc. Created on: 03/12/2022.\n",
            "      encoder         : Lavc58.54.100 libx264\n",
            "    Side data:\n",
            "      cpb: bitrate max/min/avg: 0/0/0 buffer size: 0 vbv_delay: -1\n",
            "    Stream #0:1(und): Audio: aac (LC) (mp4a / 0x6134706D), 44100 Hz, stereo, fltp, 128 kb/s (default)\n",
            "    Metadata:\n",
            "      creation_time   : 2022-03-13T02:48:03.000000Z\n",
            "      handler_name    : ISO Media file produced by Google Inc. Created on: 03/12/2022.\n",
            "      encoder         : Lavc58.54.100 aac\n",
            "frame= 1686 fps= 54 q=-1.0 Lsize=    5489kB time=00:00:56.63 bitrate= 793.9kbits/s speed=1.83x    \n",
            "video:4534kB audio:893kB subtitle:0kB other streams:0kB global headers:0kB muxing overhead: 1.132865%\n",
            "\u001b[1;36m[libx264 @ 0x559385694000] \u001b[0mframe I:7     Avg QP:20.02  size: 35799\n",
            "\u001b[1;36m[libx264 @ 0x559385694000] \u001b[0mframe P:425   Avg QP:22.61  size:  7249\n",
            "\u001b[1;36m[libx264 @ 0x559385694000] \u001b[0mframe B:1254  Avg QP:27.62  size:  1045\n",
            "\u001b[1;36m[libx264 @ 0x559385694000] \u001b[0mconsecutive B-frames:  0.6%  0.4%  1.1% 98.0%\n",
            "\u001b[1;36m[libx264 @ 0x559385694000] \u001b[0mmb I  I16..4: 12.0% 46.9% 41.1%\n",
            "\u001b[1;36m[libx264 @ 0x559385694000] \u001b[0mmb P  I16..4:  3.6%  3.3%  0.8%  P16..4: 50.2% 15.2%  8.3%  0.0%  0.0%    skip:18.6%\n",
            "\u001b[1;36m[libx264 @ 0x559385694000] \u001b[0mmb B  I16..4:  0.3%  0.3%  0.0%  B16..8: 49.1%  2.0%  0.3%  direct: 0.5%  skip:47.4%  L0:49.5% L1:47.3% BI: 3.2%\n",
            "\u001b[1;36m[libx264 @ 0x559385694000] \u001b[0m8x8 transform intra:43.7% inter:63.7%\n",
            "\u001b[1;36m[libx264 @ 0x559385694000] \u001b[0mcoded y,uvDC,uvAC intra: 30.3% 60.8% 26.8% inter: 8.8% 8.8% 1.7%\n",
            "\u001b[1;36m[libx264 @ 0x559385694000] \u001b[0mi16 v,h,dc,p: 20% 29% 20% 31%\n",
            "\u001b[1;36m[libx264 @ 0x559385694000] \u001b[0mi8 v,h,dc,ddl,ddr,vr,hd,vl,hu: 24% 29% 34%  2%  2%  2%  3%  2%  3%\n",
            "\u001b[1;36m[libx264 @ 0x559385694000] \u001b[0mi4 v,h,dc,ddl,ddr,vr,hd,vl,hu: 28% 37% 16%  3%  3%  3%  5%  3%  3%\n",
            "\u001b[1;36m[libx264 @ 0x559385694000] \u001b[0mi8c dc,h,v,p: 45% 29% 22%  4%\n",
            "\u001b[1;36m[libx264 @ 0x559385694000] \u001b[0mWeighted P-Frames: Y:4.9% UV:0.7%\n",
            "\u001b[1;36m[libx264 @ 0x559385694000] \u001b[0mref P L0: 53.2% 15.1% 18.2% 13.0%  0.5%\n",
            "\u001b[1;36m[libx264 @ 0x559385694000] \u001b[0mref B L0: 81.7% 15.0%  3.3%\n",
            "\u001b[1;36m[libx264 @ 0x559385694000] \u001b[0mref B L1: 90.9%  9.1%\n",
            "\u001b[1;36m[libx264 @ 0x559385694000] \u001b[0mkb/s:655.94\n",
            "\u001b[1;36m[aac @ 0x559385694d80] \u001b[0mQavg: 216.745\n"
          ]
        }
      ]
    }
  ]
}